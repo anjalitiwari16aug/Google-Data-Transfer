{
  "nbformat": 4,
  "nbformat_minor": 0,
  "metadata": {
    "colab": {
      "provenance": [],
      "include_colab_link": true
    },
    "kernelspec": {
      "name": "python3",
      "display_name": "Python 3"
    },
    "language_info": {
      "name": "python"
    }
  },
  "cells": [
    {
      "cell_type": "markdown",
      "metadata": {
        "id": "view-in-github",
        "colab_type": "text"
      },
      "source": [
        "<a href=\"https://colab.research.google.com/github/anjalitiwari16aug/Google-Data-Transfer/blob/master/Data_Science_2.ipynb\" target=\"_parent\"><img src=\"https://colab.research.google.com/assets/colab-badge.svg\" alt=\"Open In Colab\"/></a>"
      ]
    },
    {
      "cell_type": "code",
      "execution_count": null,
      "metadata": {
        "colab": {
          "base_uri": "https://localhost:8080/"
        },
        "id": "-A31444XUepw",
        "outputId": "f89c0295-50ab-4190-dde5-e0c1373bab8d"
      },
      "outputs": [
        {
          "output_type": "stream",
          "name": "stdout",
          "text": [
            "Hey\n"
          ]
        }
      ],
      "source": [
        "if True and False:\n",
        "  if False:\n",
        "    print('Hello World')\n",
        "  else:\n",
        "    print('Hi')\n",
        "else:\n",
        "  print('Hey')"
      ]
    },
    {
      "cell_type": "markdown",
      "source": [
        "# Loops"
      ],
      "metadata": {
        "id": "Lb7ggQXZVfY0"
      }
    },
    {
      "cell_type": "markdown",
      "source": [
        "* 1) It provides code reusability.\n",
        "* 2) Using loops, we do not need to write the same code again and again.\n",
        "* 3) Using loops, we can traverse over the elements of data structures (array or linked lists)."
      ],
      "metadata": {
        "id": "hR8jH0mNWaGZ"
      }
    },
    {
      "cell_type": "code",
      "source": [
        "range(5)"
      ],
      "metadata": {
        "colab": {
          "base_uri": "https://localhost:8080/"
        },
        "id": "sDaZtZ-tVRy4",
        "outputId": "ee950f78-1831-4eba-957c-e76636e799c8"
      },
      "execution_count": null,
      "outputs": [
        {
          "output_type": "execute_result",
          "data": {
            "text/plain": [
              "range(0, 5)"
            ]
          },
          "metadata": {},
          "execution_count": 4
        }
      ]
    },
    {
      "cell_type": "code",
      "source": [
        "for i in range(5):\n",
        "  print(i)"
      ],
      "metadata": {
        "colab": {
          "base_uri": "https://localhost:8080/"
        },
        "id": "wwpzqPOsWgJR",
        "outputId": "1f619b8c-09e5-4214-ee55-d27aa5a81a5a"
      },
      "execution_count": null,
      "outputs": [
        {
          "output_type": "stream",
          "name": "stdout",
          "text": [
            "0\n",
            "1\n",
            "2\n",
            "3\n",
            "4\n"
          ]
        }
      ]
    },
    {
      "cell_type": "code",
      "source": [
        "# range -> start, stop, step"
      ],
      "metadata": {
        "id": "yEbMip6eW287"
      },
      "execution_count": null,
      "outputs": []
    },
    {
      "cell_type": "code",
      "source": [
        "for i in range(10,0,-2):\n",
        "  print(i)"
      ],
      "metadata": {
        "colab": {
          "base_uri": "https://localhost:8080/"
        },
        "id": "GrEaBCU9XoiS",
        "outputId": "25e1df2d-994e-43a3-c4f1-73be0603cf05"
      },
      "execution_count": null,
      "outputs": [
        {
          "output_type": "stream",
          "name": "stdout",
          "text": [
            "10\n",
            "8\n",
            "6\n",
            "4\n",
            "2\n"
          ]
        }
      ]
    },
    {
      "cell_type": "code",
      "source": [
        "str1 = 'Harshvardhan Singh'\n",
        "\n",
        "for i in str1:\n",
        "  print(i)"
      ],
      "metadata": {
        "colab": {
          "base_uri": "https://localhost:8080/"
        },
        "id": "hQwyT6daXt7I",
        "outputId": "6e613597-9625-421b-982d-f668942a96c7"
      },
      "execution_count": null,
      "outputs": [
        {
          "output_type": "stream",
          "name": "stdout",
          "text": [
            "H\n",
            "a\n",
            "r\n",
            "s\n",
            "h\n",
            "v\n",
            "a\n",
            "r\n",
            "d\n",
            "h\n",
            "a\n",
            "n\n",
            " \n",
            "S\n",
            "i\n",
            "n\n",
            "g\n",
            "h\n"
          ]
        }
      ]
    },
    {
      "cell_type": "code",
      "source": [
        "## While\n",
        "count = 0\n",
        "\n",
        "while count<5:\n",
        "  print(count)\n",
        "  count = count + 1"
      ],
      "metadata": {
        "colab": {
          "base_uri": "https://localhost:8080/"
        },
        "id": "G-v8EbUxYYSn",
        "outputId": "f8f961c2-2b36-4559-e5d4-f8f88117c170"
      },
      "execution_count": null,
      "outputs": [
        {
          "output_type": "stream",
          "name": "stdout",
          "text": [
            "0\n",
            "1\n",
            "2\n",
            "3\n",
            "4\n"
          ]
        }
      ]
    },
    {
      "cell_type": "code",
      "source": [
        "for i in range(5):\n",
        "  print(i)"
      ],
      "metadata": {
        "colab": {
          "base_uri": "https://localhost:8080/"
        },
        "id": "0Zflc3LwYqwy",
        "outputId": "1b494e32-b06b-4d0f-a48a-c598bc091037"
      },
      "execution_count": null,
      "outputs": [
        {
          "output_type": "stream",
          "name": "stdout",
          "text": [
            "0\n",
            "1\n",
            "2\n",
            "3\n",
            "4\n"
          ]
        }
      ]
    },
    {
      "cell_type": "code",
      "source": [
        "## Loop Control Statements\n",
        "\n",
        "## Break\n",
        "\n",
        "for i in range(10):\n",
        "  if i == 5:\n",
        "    break\n",
        "  print(i)"
      ],
      "metadata": {
        "colab": {
          "base_uri": "https://localhost:8080/"
        },
        "id": "MEvJeHeGY1Hx",
        "outputId": "941e7949-4703-4c70-cf55-fcf90a143a53"
      },
      "execution_count": null,
      "outputs": [
        {
          "output_type": "stream",
          "name": "stdout",
          "text": [
            "0\n",
            "1\n",
            "2\n",
            "3\n",
            "4\n"
          ]
        }
      ]
    },
    {
      "cell_type": "code",
      "source": [
        "# Continue\n",
        "\n",
        "for i in range(10):\n",
        "  if i % 2 == 0:\n",
        "    continue\n",
        "  print(i)"
      ],
      "metadata": {
        "colab": {
          "base_uri": "https://localhost:8080/"
        },
        "id": "Qz21xoATZL10",
        "outputId": "955786fd-34fa-457a-fbb2-79297934ebcf"
      },
      "execution_count": null,
      "outputs": [
        {
          "output_type": "stream",
          "name": "stdout",
          "text": [
            "1\n",
            "3\n",
            "5\n",
            "7\n",
            "9\n"
          ]
        }
      ]
    },
    {
      "cell_type": "code",
      "source": [
        "# Pass\n",
        "\n",
        "for i in range(5):\n",
        "  if i == 3:\n",
        "    pass\n",
        "  print(i)"
      ],
      "metadata": {
        "colab": {
          "base_uri": "https://localhost:8080/"
        },
        "id": "uIb5Uo3XZe1A",
        "outputId": "9c991009-39d0-4272-eb81-18615d98284b"
      },
      "execution_count": null,
      "outputs": [
        {
          "output_type": "stream",
          "name": "stdout",
          "text": [
            "0\n",
            "1\n",
            "2\n",
            "3\n",
            "4\n"
          ]
        }
      ]
    },
    {
      "cell_type": "code",
      "source": [
        "## Pattern Printing"
      ],
      "metadata": {
        "id": "AaN67o27Zvc1"
      },
      "execution_count": null,
      "outputs": []
    },
    {
      "cell_type": "code",
      "source": [
        "for i in range(1,6):\n",
        "  print('* '*i)"
      ],
      "metadata": {
        "colab": {
          "base_uri": "https://localhost:8080/"
        },
        "id": "R-sXo3SIaHyJ",
        "outputId": "c3d15fe4-2243-4f67-c279-726988bf71fc"
      },
      "execution_count": null,
      "outputs": [
        {
          "output_type": "stream",
          "name": "stdout",
          "text": [
            "* \n",
            "* * \n",
            "* * * \n",
            "* * * * \n",
            "* * * * * \n"
          ]
        }
      ]
    },
    {
      "cell_type": "code",
      "source": [
        "for i in range(5,0,-1):\n",
        "  print('* ' * i)\n",
        "\n",
        "# * * * * *\n",
        "# * * * *\n",
        "# * * *\n",
        "# * *\n",
        "# *"
      ],
      "metadata": {
        "colab": {
          "base_uri": "https://localhost:8080/"
        },
        "id": "R1DY2_XpaBto",
        "outputId": "d4f0dfbc-e7ba-4947-a446-acdaeb4205ea"
      },
      "execution_count": null,
      "outputs": [
        {
          "output_type": "stream",
          "name": "stdout",
          "text": [
            "* * * * * \n",
            "* * * * \n",
            "* * * \n",
            "* * \n",
            "* \n"
          ]
        }
      ]
    },
    {
      "cell_type": "code",
      "source": [
        "num = int(input('Give n '))\n",
        "print()\n",
        "for i in range(1, 11):\n",
        "  print('* '*num)\n",
        "\n",
        "\n",
        "# * * * * *\n",
        "# * * * * *\n",
        "# * * * * *\n",
        "# * * * * *\n",
        "# * * * * *"
      ],
      "metadata": {
        "colab": {
          "base_uri": "https://localhost:8080/"
        },
        "id": "zALPWXOrbk5f",
        "outputId": "9f184a9d-bd4d-4de1-d127-fe42244a45b9"
      },
      "execution_count": null,
      "outputs": [
        {
          "output_type": "stream",
          "name": "stdout",
          "text": [
            "Give n 10\n",
            "\n",
            "* * * * * * * * * * \n",
            "* * * * * * * * * * \n",
            "* * * * * * * * * * \n",
            "* * * * * * * * * * \n",
            "* * * * * * * * * * \n",
            "* * * * * * * * * * \n",
            "* * * * * * * * * * \n",
            "* * * * * * * * * * \n",
            "* * * * * * * * * * \n",
            "* * * * * * * * * * \n"
          ]
        }
      ]
    },
    {
      "cell_type": "code",
      "source": [
        "num = int(input('Give n '))\n",
        "print()\n",
        "for i in range(1, 11):\n",
        "  if i%2 == 0:\n",
        "    print('* '*num)\n",
        "  else:\n",
        "    print()\n",
        "\n",
        "\n",
        "#\n",
        "# * * * * * * * * * *\n",
        "\n",
        "# * * * * * * * * * *\n",
        "\n",
        "# * * * * * * * * * *\n",
        "\n",
        "# * * * * * * * * * *\n",
        "\n",
        "# * * * * * * * * * *"
      ],
      "metadata": {
        "colab": {
          "base_uri": "https://localhost:8080/"
        },
        "id": "332L56wfc6DL",
        "outputId": "ab1b0094-424d-41d8-ea30-83bd3d82a01e"
      },
      "execution_count": null,
      "outputs": [
        {
          "output_type": "stream",
          "name": "stdout",
          "text": [
            "Give n 10\n",
            "\n",
            "\n",
            "* * * * * * * * * * \n",
            "\n",
            "* * * * * * * * * * \n",
            "\n",
            "* * * * * * * * * * \n",
            "\n",
            "* * * * * * * * * * \n",
            "\n",
            "* * * * * * * * * * \n"
          ]
        }
      ]
    },
    {
      "cell_type": "markdown",
      "source": [
        "# Q) Calculate the sum of first N natural numbers"
      ],
      "metadata": {
        "id": "60hHc0TSec1n"
      }
    },
    {
      "cell_type": "code",
      "source": [
        "num = int(input('Give me value'))\n",
        "sum = 0\n",
        "\n",
        "for i in range(1,num+1):\n",
        "  sum = sum + i\n",
        "\n",
        "print('The sum of',num,'Natural numbers is',sum)"
      ],
      "metadata": {
        "colab": {
          "base_uri": "https://localhost:8080/"
        },
        "id": "wfk8lBIPeNEV",
        "outputId": "ea15633c-5bfe-4d8b-bf6a-f0ff1c7b80aa"
      },
      "execution_count": null,
      "outputs": [
        {
          "output_type": "stream",
          "name": "stdout",
          "text": [
            "Give me value10\n",
            "The sum of 10 Natural numbers is 55\n"
          ]
        }
      ]
    },
    {
      "cell_type": "code",
      "source": [
        "num = int(input('Give me value'))\n",
        "sum = 0\n",
        "count = 1\n",
        "\n",
        "while count <= num:\n",
        "  sum = sum + count\n",
        "  count = count + 1\n",
        "\n",
        "print('The sum of',num,'Natural numbers is',sum)"
      ],
      "metadata": {
        "colab": {
          "base_uri": "https://localhost:8080/"
        },
        "id": "HQODkWYki4kp",
        "outputId": "ae648ea0-39c7-44df-e67e-831e7265d3bd"
      },
      "execution_count": null,
      "outputs": [
        {
          "output_type": "stream",
          "name": "stdout",
          "text": [
            "Give me value10\n",
            "The sum of 10 Natural numbers is 55\n"
          ]
        }
      ]
    },
    {
      "cell_type": "code",
      "source": [
        "## Nested Loops\n",
        "\n",
        "for i in range(1,7):\n",
        "  for j in range(1,7):\n",
        "    for k in range(1,7):\n",
        "      print(i,j,k)\n",
        "print('----')"
      ],
      "metadata": {
        "colab": {
          "base_uri": "https://localhost:8080/"
        },
        "id": "OcJPKVadgpmF",
        "outputId": "d6815470-36e3-47ef-a557-a23f14b702a1"
      },
      "execution_count": null,
      "outputs": [
        {
          "output_type": "stream",
          "name": "stdout",
          "text": [
            "1 1 1\n",
            "1 1 2\n",
            "1 1 3\n",
            "1 1 4\n",
            "1 1 5\n",
            "1 1 6\n",
            "1 2 1\n",
            "1 2 2\n",
            "1 2 3\n",
            "1 2 4\n",
            "1 2 5\n",
            "1 2 6\n",
            "1 3 1\n",
            "1 3 2\n",
            "1 3 3\n",
            "1 3 4\n",
            "1 3 5\n",
            "1 3 6\n",
            "1 4 1\n",
            "1 4 2\n",
            "1 4 3\n",
            "1 4 4\n",
            "1 4 5\n",
            "1 4 6\n",
            "1 5 1\n",
            "1 5 2\n",
            "1 5 3\n",
            "1 5 4\n",
            "1 5 5\n",
            "1 5 6\n",
            "1 6 1\n",
            "1 6 2\n",
            "1 6 3\n",
            "1 6 4\n",
            "1 6 5\n",
            "1 6 6\n",
            "2 1 1\n",
            "2 1 2\n",
            "2 1 3\n",
            "2 1 4\n",
            "2 1 5\n",
            "2 1 6\n",
            "2 2 1\n",
            "2 2 2\n",
            "2 2 3\n",
            "2 2 4\n",
            "2 2 5\n",
            "2 2 6\n",
            "2 3 1\n",
            "2 3 2\n",
            "2 3 3\n",
            "2 3 4\n",
            "2 3 5\n",
            "2 3 6\n",
            "2 4 1\n",
            "2 4 2\n",
            "2 4 3\n",
            "2 4 4\n",
            "2 4 5\n",
            "2 4 6\n",
            "2 5 1\n",
            "2 5 2\n",
            "2 5 3\n",
            "2 5 4\n",
            "2 5 5\n",
            "2 5 6\n",
            "2 6 1\n",
            "2 6 2\n",
            "2 6 3\n",
            "2 6 4\n",
            "2 6 5\n",
            "2 6 6\n",
            "3 1 1\n",
            "3 1 2\n",
            "3 1 3\n",
            "3 1 4\n",
            "3 1 5\n",
            "3 1 6\n",
            "3 2 1\n",
            "3 2 2\n",
            "3 2 3\n",
            "3 2 4\n",
            "3 2 5\n",
            "3 2 6\n",
            "3 3 1\n",
            "3 3 2\n",
            "3 3 3\n",
            "3 3 4\n",
            "3 3 5\n",
            "3 3 6\n",
            "3 4 1\n",
            "3 4 2\n",
            "3 4 3\n",
            "3 4 4\n",
            "3 4 5\n",
            "3 4 6\n",
            "3 5 1\n",
            "3 5 2\n",
            "3 5 3\n",
            "3 5 4\n",
            "3 5 5\n",
            "3 5 6\n",
            "3 6 1\n",
            "3 6 2\n",
            "3 6 3\n",
            "3 6 4\n",
            "3 6 5\n",
            "3 6 6\n",
            "4 1 1\n",
            "4 1 2\n",
            "4 1 3\n",
            "4 1 4\n",
            "4 1 5\n",
            "4 1 6\n",
            "4 2 1\n",
            "4 2 2\n",
            "4 2 3\n",
            "4 2 4\n",
            "4 2 5\n",
            "4 2 6\n",
            "4 3 1\n",
            "4 3 2\n",
            "4 3 3\n",
            "4 3 4\n",
            "4 3 5\n",
            "4 3 6\n",
            "4 4 1\n",
            "4 4 2\n",
            "4 4 3\n",
            "4 4 4\n",
            "4 4 5\n",
            "4 4 6\n",
            "4 5 1\n",
            "4 5 2\n",
            "4 5 3\n",
            "4 5 4\n",
            "4 5 5\n",
            "4 5 6\n",
            "4 6 1\n",
            "4 6 2\n",
            "4 6 3\n",
            "4 6 4\n",
            "4 6 5\n",
            "4 6 6\n",
            "5 1 1\n",
            "5 1 2\n",
            "5 1 3\n",
            "5 1 4\n",
            "5 1 5\n",
            "5 1 6\n",
            "5 2 1\n",
            "5 2 2\n",
            "5 2 3\n",
            "5 2 4\n",
            "5 2 5\n",
            "5 2 6\n",
            "5 3 1\n",
            "5 3 2\n",
            "5 3 3\n",
            "5 3 4\n",
            "5 3 5\n",
            "5 3 6\n",
            "5 4 1\n",
            "5 4 2\n",
            "5 4 3\n",
            "5 4 4\n",
            "5 4 5\n",
            "5 4 6\n",
            "5 5 1\n",
            "5 5 2\n",
            "5 5 3\n",
            "5 5 4\n",
            "5 5 5\n",
            "5 5 6\n",
            "5 6 1\n",
            "5 6 2\n",
            "5 6 3\n",
            "5 6 4\n",
            "5 6 5\n",
            "5 6 6\n",
            "6 1 1\n",
            "6 1 2\n",
            "6 1 3\n",
            "6 1 4\n",
            "6 1 5\n",
            "6 1 6\n",
            "6 2 1\n",
            "6 2 2\n",
            "6 2 3\n",
            "6 2 4\n",
            "6 2 5\n",
            "6 2 6\n",
            "6 3 1\n",
            "6 3 2\n",
            "6 3 3\n",
            "6 3 4\n",
            "6 3 5\n",
            "6 3 6\n",
            "6 4 1\n",
            "6 4 2\n",
            "6 4 3\n",
            "6 4 4\n",
            "6 4 5\n",
            "6 4 6\n",
            "6 5 1\n",
            "6 5 2\n",
            "6 5 3\n",
            "6 5 4\n",
            "6 5 5\n",
            "6 5 6\n",
            "6 6 1\n",
            "6 6 2\n",
            "6 6 3\n",
            "6 6 4\n",
            "6 6 5\n",
            "6 6 6\n",
            "----\n"
          ]
        }
      ]
    },
    {
      "cell_type": "markdown",
      "source": [
        "# Data Structures"
      ],
      "metadata": {
        "id": "5DR9njW5iY7h"
      }
    },
    {
      "cell_type": "markdown",
      "source": [
        "# List"
      ],
      "metadata": {
        "id": "j1j-NgpJkXUz"
      }
    },
    {
      "cell_type": "markdown",
      "source": [
        "* Lists are ordered, mutable collections of items.\n",
        "* They can contain items of different data types."
      ],
      "metadata": {
        "id": "RTxhUKKXkcyF"
      }
    },
    {
      "cell_type": "code",
      "source": [
        "lst = []\n",
        "print(type(lst))"
      ],
      "metadata": {
        "colab": {
          "base_uri": "https://localhost:8080/"
        },
        "id": "74s2mi7thLPA",
        "outputId": "7e68b2f4-f3ab-453b-f6c2-b15a0bf01337"
      },
      "execution_count": null,
      "outputs": [
        {
          "output_type": "stream",
          "name": "stdout",
          "text": [
            "<class 'list'>\n"
          ]
        }
      ]
    },
    {
      "cell_type": "code",
      "source": [
        "lst = [40, 56, 67, 34, 89, 12]\n",
        "print(lst)"
      ],
      "metadata": {
        "colab": {
          "base_uri": "https://localhost:8080/"
        },
        "id": "-Chi117fj-H5",
        "outputId": "f524c206-47fd-4570-ccc8-886beea2d68e"
      },
      "execution_count": null,
      "outputs": [
        {
          "output_type": "stream",
          "name": "stdout",
          "text": [
            "[40, 56, 67, 34, 89, 12]\n"
          ]
        }
      ]
    },
    {
      "cell_type": "code",
      "source": [
        "lst = ['Harsh', 40, 56, 67, 34, 89, 12, 3.14, True]\n",
        "print(lst)"
      ],
      "metadata": {
        "colab": {
          "base_uri": "https://localhost:8080/"
        },
        "id": "4ZMnwlvakEZr",
        "outputId": "c220e4fa-b9c1-47ac-a0ca-faa3bb78fbfb"
      },
      "execution_count": null,
      "outputs": [
        {
          "output_type": "stream",
          "name": "stdout",
          "text": [
            "['Harsh', 40, 56, 67, 34, 89, 12, 3.14, True]\n"
          ]
        }
      ]
    },
    {
      "cell_type": "code",
      "source": [
        "print(len(lst))"
      ],
      "metadata": {
        "colab": {
          "base_uri": "https://localhost:8080/"
        },
        "id": "YxawgDY2kMbk",
        "outputId": "8196e4f1-95a1-4e28-878f-17ae2836c50d"
      },
      "execution_count": null,
      "outputs": [
        {
          "output_type": "stream",
          "name": "stdout",
          "text": [
            "9\n"
          ]
        }
      ]
    },
    {
      "cell_type": "code",
      "source": [
        "## Accessing List Elements\n",
        "\n",
        "fruits = ['apple','banana','cherry','kiwi','mango','Gauva']"
      ],
      "metadata": {
        "id": "QZLRHJHHkzp8"
      },
      "execution_count": null,
      "outputs": []
    },
    {
      "cell_type": "code",
      "source": [
        "print(fruits[1])"
      ],
      "metadata": {
        "colab": {
          "base_uri": "https://localhost:8080/"
        },
        "id": "fnJlKIVYlEAT",
        "outputId": "d6e3586f-8d8b-4df0-c0c8-d0edb2df641f"
      },
      "execution_count": null,
      "outputs": [
        {
          "output_type": "stream",
          "name": "stdout",
          "text": [
            "banana\n"
          ]
        }
      ]
    },
    {
      "cell_type": "code",
      "source": [
        "for i in range(0, len(fruits)):\n",
        "  print(i, fruits[i])"
      ],
      "metadata": {
        "colab": {
          "base_uri": "https://localhost:8080/"
        },
        "id": "2gF7NfxglItt",
        "outputId": "16f0679d-e1e3-4dca-bb89-e74e4f9dda3b"
      },
      "execution_count": null,
      "outputs": [
        {
          "output_type": "stream",
          "name": "stdout",
          "text": [
            "0 apple\n",
            "1 banana\n",
            "2 cherry\n",
            "3 kiwi\n",
            "4 mango\n",
            "5 Gauva\n"
          ]
        }
      ]
    },
    {
      "cell_type": "code",
      "source": [
        "for i in fruits:\n",
        "  print(i)"
      ],
      "metadata": {
        "colab": {
          "base_uri": "https://localhost:8080/"
        },
        "id": "xQmNtSIXmE8T",
        "outputId": "5f7893fa-a4b0-4300-fb4c-8b12683dc0ca"
      },
      "execution_count": null,
      "outputs": [
        {
          "output_type": "stream",
          "name": "stdout",
          "text": [
            "apple\n",
            "banana\n",
            "cherry\n",
            "kiwi\n",
            "mango\n",
            "Gauva\n"
          ]
        }
      ]
    },
    {
      "cell_type": "code",
      "source": [
        "Flag = False\n",
        "\n",
        "for i in fruits:\n",
        "  if i == 'watermelon':\n",
        "    Flag = True\n",
        "\n",
        "if Flag:\n",
        "  print('Found')\n",
        "else:\n",
        "  print('Not Found')"
      ],
      "metadata": {
        "colab": {
          "base_uri": "https://localhost:8080/"
        },
        "id": "xKLJJYnGmQ7X",
        "outputId": "184cec00-7393-42f7-8dd4-f1cfa8319ac7"
      },
      "execution_count": null,
      "outputs": [
        {
          "output_type": "stream",
          "name": "stdout",
          "text": [
            "Not Found\n"
          ]
        }
      ]
    },
    {
      "cell_type": "code",
      "source": [
        "# Int-> 1 2 3 5\n",
        "# Float -> 3.12,34.45,78.56\n",
        "# String -> \"12\"\n",
        "# Boolean -> True, False"
      ],
      "metadata": {
        "id": "Q5WEFYFgojtG"
      },
      "execution_count": null,
      "outputs": []
    },
    {
      "cell_type": "code",
      "source": [
        "fruits = ['apple','banana','cherry','kiwi','mango','Gauva']"
      ],
      "metadata": {
        "id": "SEdFzSCAZfaa"
      },
      "execution_count": null,
      "outputs": []
    },
    {
      "cell_type": "code",
      "source": [
        "print(fruits[2])\n",
        "print(fruits[3])\n",
        "print(fruits[6])\n",
        "print(fruits[8])"
      ],
      "metadata": {
        "colab": {
          "base_uri": "https://localhost:8080/",
          "height": 228
        },
        "id": "de6U_TJ0Zhor",
        "outputId": "66754839-af44-47f7-adef-9212255ef907"
      },
      "execution_count": null,
      "outputs": [
        {
          "output_type": "stream",
          "name": "stdout",
          "text": [
            "cherry\n",
            "kiwi\n"
          ]
        },
        {
          "output_type": "error",
          "ename": "IndexError",
          "evalue": "list index out of range",
          "traceback": [
            "\u001b[0;31m---------------------------------------------------------------------------\u001b[0m",
            "\u001b[0;31mIndexError\u001b[0m                                Traceback (most recent call last)",
            "\u001b[0;32m<ipython-input-13-06d0a04d7357>\u001b[0m in \u001b[0;36m<cell line: 0>\u001b[0;34m()\u001b[0m\n\u001b[1;32m      1\u001b[0m \u001b[0mprint\u001b[0m\u001b[0;34m(\u001b[0m\u001b[0mfruits\u001b[0m\u001b[0;34m[\u001b[0m\u001b[0;36m2\u001b[0m\u001b[0;34m]\u001b[0m\u001b[0;34m)\u001b[0m\u001b[0;34m\u001b[0m\u001b[0;34m\u001b[0m\u001b[0m\n\u001b[1;32m      2\u001b[0m \u001b[0mprint\u001b[0m\u001b[0;34m(\u001b[0m\u001b[0mfruits\u001b[0m\u001b[0;34m[\u001b[0m\u001b[0;36m3\u001b[0m\u001b[0;34m]\u001b[0m\u001b[0;34m)\u001b[0m\u001b[0;34m\u001b[0m\u001b[0;34m\u001b[0m\u001b[0m\n\u001b[0;32m----> 3\u001b[0;31m \u001b[0mprint\u001b[0m\u001b[0;34m(\u001b[0m\u001b[0mfruits\u001b[0m\u001b[0;34m[\u001b[0m\u001b[0;36m6\u001b[0m\u001b[0;34m]\u001b[0m\u001b[0;34m)\u001b[0m\u001b[0;34m\u001b[0m\u001b[0;34m\u001b[0m\u001b[0m\n\u001b[0m\u001b[1;32m      4\u001b[0m \u001b[0mprint\u001b[0m\u001b[0;34m(\u001b[0m\u001b[0mfruits\u001b[0m\u001b[0;34m[\u001b[0m\u001b[0;36m8\u001b[0m\u001b[0;34m]\u001b[0m\u001b[0;34m)\u001b[0m\u001b[0;34m\u001b[0m\u001b[0;34m\u001b[0m\u001b[0m\n",
            "\u001b[0;31mIndexError\u001b[0m: list index out of range"
          ]
        }
      ]
    },
    {
      "cell_type": "markdown",
      "source": [
        "#### [start:stop:step]"
      ],
      "metadata": {
        "id": "a0DecD-2Z-4q"
      }
    },
    {
      "cell_type": "code",
      "source": [
        "fruits = ['apple','banana','cherry','kiwi','mango','Gauva']"
      ],
      "metadata": {
        "id": "SBs08qOOaTx2"
      },
      "execution_count": null,
      "outputs": []
    },
    {
      "cell_type": "code",
      "source": [
        "# print(fruits[1:3])\n",
        "print(fruits[0:2])\n",
        "print(fruits[2:3])\n",
        "print(fruits[3:4])\n",
        "print(fruits[:])"
      ],
      "metadata": {
        "colab": {
          "base_uri": "https://localhost:8080/"
        },
        "id": "Tr47yC2AZyDq",
        "outputId": "af3c3623-be86-44d3-94ce-770eec9bfff2"
      },
      "execution_count": null,
      "outputs": [
        {
          "output_type": "stream",
          "name": "stdout",
          "text": [
            "['apple', 'banana']\n",
            "['cherry']\n",
            "['kiwi']\n",
            "['apple', 'banana', 'cherry', 'kiwi', 'mango', 'Gauva']\n"
          ]
        }
      ]
    },
    {
      "cell_type": "code",
      "source": [
        "print(fruits[1:5:2])\n",
        "print(fruits[0:3:3])\n",
        "print(fruits[0::2])\n",
        "print(fruits[::-1])"
      ],
      "metadata": {
        "colab": {
          "base_uri": "https://localhost:8080/"
        },
        "id": "g6fRz0N9bPH7",
        "outputId": "d81f7f59-ab46-4dc3-ff27-a8999d714a38"
      },
      "execution_count": null,
      "outputs": [
        {
          "output_type": "stream",
          "name": "stdout",
          "text": [
            "['banana', 'kiwi']\n",
            "['apple']\n",
            "['apple', 'cherry', 'mango']\n",
            "['Gauva', 'mango', 'kiwi', 'cherry', 'banana', 'apple']\n"
          ]
        }
      ]
    },
    {
      "cell_type": "code",
      "source": [
        "## List Methods\n",
        "\n",
        "fruits.append('Orange')\n",
        "print(fruits)"
      ],
      "metadata": {
        "colab": {
          "base_uri": "https://localhost:8080/"
        },
        "id": "pD1lQyUQb2XG",
        "outputId": "2fbe639d-9038-4a0b-d153-7717f1d169d7"
      },
      "execution_count": null,
      "outputs": [
        {
          "output_type": "stream",
          "name": "stdout",
          "text": [
            "['apple', 'banana', 'cherry', 'kiwi', 'mango', 'Gauva', 'Orange']\n"
          ]
        }
      ]
    },
    {
      "cell_type": "code",
      "source": [
        "fruits = ['apple','banana','cherry','kiwi','mango','Gauva']"
      ],
      "metadata": {
        "id": "25DZmh9CcVII"
      },
      "execution_count": null,
      "outputs": []
    },
    {
      "cell_type": "code",
      "source": [
        "lst = []\n",
        "\n",
        "for i in fruits[::3]:\n",
        "  lst.append(i)\n",
        "  print(i)"
      ],
      "metadata": {
        "colab": {
          "base_uri": "https://localhost:8080/"
        },
        "id": "WPRPuKx_c2va",
        "outputId": "93fa5474-8d62-4f8a-83ac-b32c170c4021"
      },
      "execution_count": null,
      "outputs": [
        {
          "output_type": "stream",
          "name": "stdout",
          "text": [
            "apple\n",
            "kiwi\n"
          ]
        }
      ]
    },
    {
      "cell_type": "code",
      "source": [
        "lst"
      ],
      "metadata": {
        "colab": {
          "base_uri": "https://localhost:8080/"
        },
        "id": "0z937BVtdCkm",
        "outputId": "b160b774-039d-4e78-e4ef-cbccba499bec"
      },
      "execution_count": null,
      "outputs": [
        {
          "output_type": "execute_result",
          "data": {
            "text/plain": [
              "['apple', 'kiwi']"
            ]
          },
          "metadata": {},
          "execution_count": 46
        }
      ]
    },
    {
      "cell_type": "code",
      "source": [
        "## Insert\n",
        "\n",
        "fruits.insert(1,'watermelon')\n",
        "print(fruits)"
      ],
      "metadata": {
        "colab": {
          "base_uri": "https://localhost:8080/"
        },
        "id": "65AEIKagdFXE",
        "outputId": "e73d9cc8-ec25-4db9-a885-892e2edfa731"
      },
      "execution_count": null,
      "outputs": [
        {
          "output_type": "stream",
          "name": "stdout",
          "text": [
            "['apple', 'watermelon', 'banana', 'cherry', 'kiwi', 'mango', 'Gauva', 'Orange']\n"
          ]
        }
      ]
    },
    {
      "cell_type": "code",
      "source": [
        "## Remove\n",
        "\n",
        "fruits.remove('watermelon')\n",
        "fruits"
      ],
      "metadata": {
        "colab": {
          "base_uri": "https://localhost:8080/"
        },
        "id": "5FTmXzh7deXY",
        "outputId": "0d432468-71b1-4c89-d471-c4a01d83c681"
      },
      "execution_count": null,
      "outputs": [
        {
          "output_type": "execute_result",
          "data": {
            "text/plain": [
              "['apple', 'banana', 'cherry', 'kiwi', 'mango', 'Gauva', 'Orange']"
            ]
          },
          "metadata": {},
          "execution_count": 28
        }
      ]
    },
    {
      "cell_type": "code",
      "source": [
        "fruits.insert(1,'banana')"
      ],
      "metadata": {
        "id": "mJZDCwWAdq1p"
      },
      "execution_count": null,
      "outputs": []
    },
    {
      "cell_type": "code",
      "source": [
        "fruits"
      ],
      "metadata": {
        "colab": {
          "base_uri": "https://localhost:8080/"
        },
        "id": "kwkCYM1Zdvy1",
        "outputId": "f2d5e1ba-b997-4cba-81f1-7a187d63425b"
      },
      "execution_count": null,
      "outputs": [
        {
          "output_type": "execute_result",
          "data": {
            "text/plain": [
              "['apple', 'banana', 'banana', 'cherry', 'kiwi', 'mango', 'Gauva', 'Orange']"
            ]
          },
          "metadata": {},
          "execution_count": 30
        }
      ]
    },
    {
      "cell_type": "code",
      "source": [
        "fruits.remove('banana')\n",
        "fruits"
      ],
      "metadata": {
        "colab": {
          "base_uri": "https://localhost:8080/"
        },
        "id": "Z-1CJUGSdwSq",
        "outputId": "cdc45612-6cc3-4cc2-897d-b35b561bf060"
      },
      "execution_count": null,
      "outputs": [
        {
          "output_type": "execute_result",
          "data": {
            "text/plain": [
              "['apple', 'cherry', 'kiwi', 'mango', 'Gauva', 'Orange']"
            ]
          },
          "metadata": {},
          "execution_count": 32
        }
      ]
    },
    {
      "cell_type": "code",
      "source": [
        "## Pop method\n",
        "\n",
        "popped_fruit = fruits.pop()\n",
        "print(popped_fruit)\n",
        "print(fruits)"
      ],
      "metadata": {
        "colab": {
          "base_uri": "https://localhost:8080/",
          "height": 211
        },
        "id": "GdD9bBsfeCCT",
        "outputId": "99fd4885-388b-4c38-b95e-0726bd0b8996"
      },
      "execution_count": null,
      "outputs": [
        {
          "output_type": "error",
          "ename": "IndexError",
          "evalue": "pop from empty list",
          "traceback": [
            "\u001b[0;31m---------------------------------------------------------------------------\u001b[0m",
            "\u001b[0;31mIndexError\u001b[0m                                Traceback (most recent call last)",
            "\u001b[0;32m<ipython-input-39-234631089787>\u001b[0m in \u001b[0;36m<cell line: 0>\u001b[0;34m()\u001b[0m\n\u001b[1;32m      1\u001b[0m \u001b[0;31m## Pop method\u001b[0m\u001b[0;34m\u001b[0m\u001b[0;34m\u001b[0m\u001b[0m\n\u001b[1;32m      2\u001b[0m \u001b[0;34m\u001b[0m\u001b[0m\n\u001b[0;32m----> 3\u001b[0;31m \u001b[0mpopped_fruit\u001b[0m \u001b[0;34m=\u001b[0m \u001b[0mfruits\u001b[0m\u001b[0;34m.\u001b[0m\u001b[0mpop\u001b[0m\u001b[0;34m(\u001b[0m\u001b[0;34m)\u001b[0m\u001b[0;34m\u001b[0m\u001b[0;34m\u001b[0m\u001b[0m\n\u001b[0m\u001b[1;32m      4\u001b[0m \u001b[0mprint\u001b[0m\u001b[0;34m(\u001b[0m\u001b[0mpopped_fruit\u001b[0m\u001b[0;34m)\u001b[0m\u001b[0;34m\u001b[0m\u001b[0;34m\u001b[0m\u001b[0m\n\u001b[1;32m      5\u001b[0m \u001b[0mprint\u001b[0m\u001b[0;34m(\u001b[0m\u001b[0mfruits\u001b[0m\u001b[0;34m)\u001b[0m\u001b[0;34m\u001b[0m\u001b[0;34m\u001b[0m\u001b[0m\n",
            "\u001b[0;31mIndexError\u001b[0m: pop from empty list"
          ]
        }
      ]
    },
    {
      "cell_type": "code",
      "source": [
        "print(fruits)"
      ],
      "metadata": {
        "colab": {
          "base_uri": "https://localhost:8080/"
        },
        "id": "mYOwBV7HexuJ",
        "outputId": "b318b511-ab23-40d5-dc66-4f0566854b3d"
      },
      "execution_count": null,
      "outputs": [
        {
          "output_type": "stream",
          "name": "stdout",
          "text": [
            "['apple', 'banana', 'cherry', 'kiwi', 'mango', 'Gauva']\n"
          ]
        }
      ]
    },
    {
      "cell_type": "code",
      "source": [
        "## Index Method\n",
        "\n",
        "index = fruits.index('banana')\n",
        "index"
      ],
      "metadata": {
        "colab": {
          "base_uri": "https://localhost:8080/"
        },
        "id": "oDt3LXVReWkE",
        "outputId": "6194431f-ff24-46b7-d0d3-74ec642069a3"
      },
      "execution_count": null,
      "outputs": [
        {
          "output_type": "execute_result",
          "data": {
            "text/plain": [
              "1"
            ]
          },
          "metadata": {},
          "execution_count": 49
        }
      ]
    },
    {
      "cell_type": "code",
      "source": [
        "## Sort()\n",
        "\n",
        "fruits.sort()\n",
        "fruits"
      ],
      "metadata": {
        "colab": {
          "base_uri": "https://localhost:8080/"
        },
        "id": "SL9Qj_89e1ni",
        "outputId": "f3b7a022-c01c-4be3-d89e-035dda25f4b0"
      },
      "execution_count": null,
      "outputs": [
        {
          "output_type": "execute_result",
          "data": {
            "text/plain": [
              "['Gauva', 'apple', 'banana', 'cherry', 'kiwi', 'mango']"
            ]
          },
          "metadata": {},
          "execution_count": 51
        }
      ]
    },
    {
      "cell_type": "code",
      "source": [
        "## Reverse\n",
        "\n",
        "fruits.reverse()\n",
        "fruits"
      ],
      "metadata": {
        "colab": {
          "base_uri": "https://localhost:8080/"
        },
        "id": "pqHaWqGdfnAR",
        "outputId": "2104191a-8790-4667-eaa1-ab156c4fc3f7"
      },
      "execution_count": null,
      "outputs": [
        {
          "output_type": "execute_result",
          "data": {
            "text/plain": [
              "['mango', 'kiwi', 'cherry', 'banana', 'apple', 'Gauva']"
            ]
          },
          "metadata": {},
          "execution_count": 52
        }
      ]
    },
    {
      "cell_type": "code",
      "source": [
        "## Clear\n",
        "\n",
        "fruits.clear()\n",
        "fruits"
      ],
      "metadata": {
        "colab": {
          "base_uri": "https://localhost:8080/"
        },
        "id": "_n_lWO1qf7lW",
        "outputId": "98a7a111-190f-420e-ea8b-a0a5dae5933b"
      },
      "execution_count": null,
      "outputs": [
        {
          "output_type": "execute_result",
          "data": {
            "text/plain": [
              "[]"
            ]
          },
          "metadata": {},
          "execution_count": 53
        }
      ]
    },
    {
      "cell_type": "markdown",
      "source": [
        "### Q) How to print the odd numbers from 1 to 20 and store in the list"
      ],
      "metadata": {
        "id": "6kUzWfEEh9vl"
      }
    },
    {
      "cell_type": "code",
      "source": [
        "odd = []\n",
        "\n",
        "for i in range(1,21,2):\n",
        "  odd.append(i)"
      ],
      "metadata": {
        "id": "Fo44Q8_gf_qE"
      },
      "execution_count": null,
      "outputs": []
    },
    {
      "cell_type": "code",
      "source": [
        "odd"
      ],
      "metadata": {
        "colab": {
          "base_uri": "https://localhost:8080/"
        },
        "id": "0JBa9Um6jGf6",
        "outputId": "4f1dc2ec-d1a6-4275-f9f7-5d207f4b6b5a"
      },
      "execution_count": null,
      "outputs": [
        {
          "output_type": "execute_result",
          "data": {
            "text/plain": [
              "[1, 3, 5, 7, 9, 11, 13, 15, 17, 19]"
            ]
          },
          "metadata": {},
          "execution_count": 56
        }
      ]
    },
    {
      "cell_type": "code",
      "source": [
        "odd"
      ],
      "metadata": {
        "colab": {
          "base_uri": "https://localhost:8080/"
        },
        "id": "eQMe_C-1jKTh",
        "outputId": "92875fd5-99b6-4af6-bc61-5811e35c28cf"
      },
      "execution_count": null,
      "outputs": [
        {
          "output_type": "execute_result",
          "data": {
            "text/plain": [
              "[1, 3, 5, 7, 9, 11, 13, 15, 17, 19]"
            ]
          },
          "metadata": {},
          "execution_count": 57
        }
      ]
    },
    {
      "cell_type": "code",
      "source": [
        "## Iterating over a list\n",
        "\n",
        "for i in odd:\n",
        "  print(i)"
      ],
      "metadata": {
        "colab": {
          "base_uri": "https://localhost:8080/"
        },
        "id": "1oPLNHhejchL",
        "outputId": "ca919b1a-8777-4a16-ac03-5d1786faaa7e"
      },
      "execution_count": null,
      "outputs": [
        {
          "output_type": "stream",
          "name": "stdout",
          "text": [
            "1\n",
            "3\n",
            "5\n",
            "7\n",
            "9\n",
            "11\n",
            "13\n",
            "15\n",
            "17\n",
            "19\n"
          ]
        }
      ]
    },
    {
      "cell_type": "code",
      "source": [
        "## Iterating with index\n",
        "\n",
        "for index,number in enumerate(odd):\n",
        "  print(index,number)"
      ],
      "metadata": {
        "colab": {
          "base_uri": "https://localhost:8080/"
        },
        "id": "eKnf79LijgL2",
        "outputId": "caaf24cc-25ad-4a5a-ccd4-cf8140eb7111"
      },
      "execution_count": null,
      "outputs": [
        {
          "output_type": "stream",
          "name": "stdout",
          "text": [
            "0 1\n",
            "1 3\n",
            "2 5\n",
            "3 7\n",
            "4 9\n",
            "5 11\n",
            "6 13\n",
            "7 15\n",
            "8 17\n",
            "9 19\n"
          ]
        }
      ]
    },
    {
      "cell_type": "markdown",
      "source": [
        "## List Comprehension"
      ],
      "metadata": {
        "id": "qgs7rPBRj7jp"
      }
    },
    {
      "cell_type": "markdown",
      "source": [
        "List Comprehension\n",
        "\n",
        "* Basics Syantax [expression for item in iterable]\n",
        "\n",
        "* with conditional logic [expression for item in iterable if condition]\n",
        "\n",
        "* Nested List Comprehension [expression for item1 in iterable1 for item2 in iterable2]"
      ],
      "metadata": {
        "id": "9SoRCvSVkB-H"
      }
    },
    {
      "cell_type": "code",
      "source": [
        "## Basic"
      ],
      "metadata": {
        "id": "VtuTCV5tjv78"
      },
      "execution_count": null,
      "outputs": []
    },
    {
      "cell_type": "code",
      "source": [
        "lst = []\n",
        "\n",
        "for i in range(10):\n",
        "  lst.append(i**2)\n",
        "\n",
        "print(lst)"
      ],
      "metadata": {
        "colab": {
          "base_uri": "https://localhost:8080/"
        },
        "id": "-72GrLWglMPp",
        "outputId": "819647b4-e46c-4d06-d184-513491f954d5"
      },
      "execution_count": null,
      "outputs": [
        {
          "output_type": "stream",
          "name": "stdout",
          "text": [
            "[0, 1, 4, 9, 16, 25, 36, 49, 64, 81]\n"
          ]
        }
      ]
    },
    {
      "cell_type": "code",
      "source": [
        "lst = [i**2 for i in range(10)]\n",
        "print(lst)"
      ],
      "metadata": {
        "colab": {
          "base_uri": "https://localhost:8080/"
        },
        "id": "ZU4ENHKjldbA",
        "outputId": "6efe00de-98f8-4c2f-9064-66922f6aadcb"
      },
      "execution_count": null,
      "outputs": [
        {
          "output_type": "stream",
          "name": "stdout",
          "text": [
            "[0, 1, 4, 9, 16, 25, 36, 49, 64, 81]\n"
          ]
        }
      ]
    },
    {
      "cell_type": "code",
      "source": [
        "lst = [i for i in range(10)]\n",
        "print(lst)"
      ],
      "metadata": {
        "colab": {
          "base_uri": "https://localhost:8080/"
        },
        "id": "IfjtjbpckVAs",
        "outputId": "b59e6b29-1f1b-4106-a819-317d45500c05"
      },
      "execution_count": null,
      "outputs": [
        {
          "output_type": "stream",
          "name": "stdout",
          "text": [
            "[0, 1, 8, 27, 64, 125, 216, 343, 512, 729]\n"
          ]
        }
      ]
    },
    {
      "cell_type": "code",
      "source": [
        "## With Conditionals\n",
        "\n",
        "lst = []\n",
        "\n",
        "for i in range(10):\n",
        "  if i%2 == 0:\n",
        "    lst.append(i)\n",
        "\n",
        "print(lst)"
      ],
      "metadata": {
        "colab": {
          "base_uri": "https://localhost:8080/"
        },
        "id": "-pAw7nlDkprM",
        "outputId": "60e000b5-2415-4cef-b7d2-8a59e6169939"
      },
      "execution_count": null,
      "outputs": [
        {
          "output_type": "stream",
          "name": "stdout",
          "text": [
            "[0, 2, 4, 6, 8]\n"
          ]
        }
      ]
    },
    {
      "cell_type": "markdown",
      "source": [
        "with conditional logic [expression for item in iterable if condition]"
      ],
      "metadata": {
        "id": "jzPKR9EMl4Vy"
      }
    },
    {
      "cell_type": "code",
      "source": [
        "lst = [i for i in range(10) if i%2 == 0]\n",
        "print(lst)"
      ],
      "metadata": {
        "colab": {
          "base_uri": "https://localhost:8080/"
        },
        "id": "hLv9QDPWl0VR",
        "outputId": "23c16c64-c4cd-4581-c389-eed1099e0e93"
      },
      "execution_count": null,
      "outputs": [
        {
          "output_type": "stream",
          "name": "stdout",
          "text": [
            "[0, 2, 4, 6, 8]\n"
          ]
        }
      ]
    },
    {
      "cell_type": "code",
      "source": [
        "## Nested Conditions"
      ],
      "metadata": {
        "id": "35Se4T2-mDK9"
      },
      "execution_count": null,
      "outputs": []
    },
    {
      "cell_type": "markdown",
      "source": [
        "Nested List Comprehension [expression for item1 in iterable1 for item2 in iterable2]"
      ],
      "metadata": {
        "id": "aNQD3K5zmYm6"
      }
    },
    {
      "cell_type": "code",
      "source": [
        "lst1 = [1,2,3,4,5]\n",
        "lst2 = ['a','b','c','d','e']\n",
        "lst3 = []\n",
        "\n",
        "for i in lst1:\n",
        "  for j in lst2:\n",
        "    lst3.append([i,j])\n",
        "\n",
        "print(lst3)"
      ],
      "metadata": {
        "colab": {
          "base_uri": "https://localhost:8080/"
        },
        "id": "JnPtNvwxmTAp",
        "outputId": "aab6f9cc-12e7-48d0-82d9-11f82ede9178"
      },
      "execution_count": null,
      "outputs": [
        {
          "output_type": "stream",
          "name": "stdout",
          "text": [
            "[[1, 'a'], [1, 'b'], [1, 'c'], [1, 'd'], [1, 'e'], [2, 'a'], [2, 'b'], [2, 'c'], [2, 'd'], [2, 'e'], [3, 'a'], [3, 'b'], [3, 'c'], [3, 'd'], [3, 'e'], [4, 'a'], [4, 'b'], [4, 'c'], [4, 'd'], [4, 'e'], [5, 'a'], [5, 'b'], [5, 'c'], [5, 'd'], [5, 'e']]\n"
          ]
        }
      ]
    },
    {
      "cell_type": "code",
      "source": [
        "a = [[i,j] for i in lst1 for j in lst2]\n",
        "print(a)"
      ],
      "metadata": {
        "colab": {
          "base_uri": "https://localhost:8080/"
        },
        "id": "NjUdMgjFmqgC",
        "outputId": "3db5fe3f-afe7-4a50-bf77-eb4c91b15665"
      },
      "execution_count": null,
      "outputs": [
        {
          "output_type": "stream",
          "name": "stdout",
          "text": [
            "[[1, 'a'], [1, 'b'], [1, 'c'], [1, 'd'], [1, 'e'], [2, 'a'], [2, 'b'], [2, 'c'], [2, 'd'], [2, 'e'], [3, 'a'], [3, 'b'], [3, 'c'], [3, 'd'], [3, 'e'], [4, 'a'], [4, 'b'], [4, 'c'], [4, 'd'], [4, 'e'], [5, 'a'], [5, 'b'], [5, 'c'], [5, 'd'], [5, 'e']]\n"
          ]
        }
      ]
    },
    {
      "cell_type": "markdown",
      "source": [
        "# Real World Example of List"
      ],
      "metadata": {
        "id": "27lVtMtLpJJW"
      }
    },
    {
      "cell_type": "markdown",
      "source": [
        "#### Example 1. Manage A To Do List"
      ],
      "metadata": {
        "id": "ejymEy74pPhS"
      }
    },
    {
      "cell_type": "code",
      "source": [
        "to_do_list = ['Buying Grocery','Cleaning the house','Pay Bills']\n",
        "\n",
        "## Adding to task\n",
        "to_do_list.append('Schedule a meeting')\n",
        "to_do_list.append('Go for a run')\n",
        "\n",
        "## Removing a complete task\n",
        "to_do_list.remove('Cleaning the house')\n",
        "\n",
        "## Checking if a task is in the list\n",
        "if \"Pay Bills\" in to_do_list:\n",
        "  print(\"Don't forget to pay the utility bills\")\n",
        "\n",
        "print('To Do List Remaining')\n",
        "for task in to_do_list:\n",
        "  print(task)"
      ],
      "metadata": {
        "colab": {
          "base_uri": "https://localhost:8080/"
        },
        "id": "du7mX3eVo_lw",
        "outputId": "4ae11fb5-7f20-446b-c99b-b0935335528b"
      },
      "execution_count": null,
      "outputs": [
        {
          "output_type": "stream",
          "name": "stdout",
          "text": [
            "Don't forget to pay the utility bills\n",
            "To Do List Remaining\n",
            "Buying Grocery\n",
            "Pay Bills\n",
            "Schedule a meeting\n",
            "Go for a run\n"
          ]
        }
      ]
    },
    {
      "cell_type": "markdown",
      "source": [
        "### Example 2: Organizing Student Grades"
      ],
      "metadata": {
        "id": "hrDp0N9tqPog"
      }
    },
    {
      "cell_type": "code",
      "source": [
        "# 85,92,78,90,88\n",
        "grades = [85,92,78,90,88]\n",
        "\n",
        "# append 99\n",
        "grades.append(99)\n",
        "\n",
        "# Calculate the average grade\n",
        "average_grade = sum(grades)/len(grades)\n",
        "print(\"The Average is\", average_grade)\n",
        "\n",
        "# Find the highest and lowest grades\n",
        "highest = max(grades)\n",
        "lowest = min(grades)\n",
        "print(\"Highest Grade is\", highest)\n",
        "print(\"Lowest Grade is\", lowest)"
      ],
      "metadata": {
        "colab": {
          "base_uri": "https://localhost:8080/"
        },
        "id": "Lzkm5r21qHFX",
        "outputId": "cbb562be-d249-49f4-e6af-d57bfb545b37"
      },
      "execution_count": null,
      "outputs": [
        {
          "output_type": "stream",
          "name": "stdout",
          "text": [
            "The Average is 88.66666666666667\n",
            "Highest Grade is 99\n",
            "Lowest Grade is 78\n"
          ]
        }
      ]
    },
    {
      "cell_type": "code",
      "source": [],
      "metadata": {
        "id": "T6MwtarXsWMo"
      },
      "execution_count": null,
      "outputs": []
    }
  ]
}